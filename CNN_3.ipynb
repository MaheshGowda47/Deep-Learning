{
 "cells": [
  {
   "cell_type": "markdown",
   "metadata": {},
   "source": [
    "Necessary Imports"
   ]
  },
  {
   "cell_type": "code",
   "execution_count": 18,
   "metadata": {},
   "outputs": [],
   "source": [
    "import tensorflow as tf\n",
    "from tensorflow.keras.layers import Layer, Flatten, Dense, MaxPooling2D, Conv2D\n",
    "from tensorflow.keras.models import Model\n",
    "from tensorflow.keras.losses import BinaryCrossentropy\n",
    "from tensorflow.keras.metrics import BinaryAccuracy"
   ]
  },
  {
   "cell_type": "markdown",
   "metadata": {},
   "source": [
    "Custom Layer for weights and bias"
   ]
  },
  {
   "cell_type": "code",
   "execution_count": 19,
   "metadata": {},
   "outputs": [],
   "source": [
    "class CustomConv2D(Layer):\n",
    "    def __init__(self, filters, kernel_size, activation='relu'):\n",
    "        super(CustomConv2D, self).__init__()\n",
    "        self.filters = filters\n",
    "        self.kernel_size = kernel_size\n",
    "        self.activation = tf.keras.activations.get(activation)\n",
    "\n",
    "# kernal - filter, filter - number of kernal\n",
    "    def build(self, input_shape):\n",
    "        self.kernel = self.add_weight(\n",
    "            \n",
    "            shape=(self.kernel_size[0], self.kernel_size[1], input_shape[-1], self.filters),\n",
    "            initializer='glorot_uniform',\n",
    "            trainable=True,\n",
    "            name='kernel'\n",
    "\n",
    "        )\n",
    "\n",
    "        self.bias = self.add_weight(\n",
    "            shape=(self.filters,),\n",
    "            initializer='zeros',\n",
    "            trainable=True,\n",
    "            name='bias'\n",
    "        )\n",
    "\n",
    "    def call(self, inputs):\n",
    "        output = tf.nn.conv2d(inputs, self.kernel, strides=[1, 1, 1, 1], padding='SAME')\n",
    "        output = tf.nn.bias_add(output, self.bias)\n",
    "        output = self.activation(output)\n",
    "        return output\n"
   ]
  },
  {
   "cell_type": "markdown",
   "metadata": {},
   "source": [
    "custom Dense Layer"
   ]
  },
  {
   "cell_type": "code",
   "execution_count": 20,
   "metadata": {},
   "outputs": [],
   "source": [
    "class CustomDense(Layer):\n",
    "    def __init__(self, units, activation='relu'):\n",
    "        super(CustomDense, self).__init__()\n",
    "        self.units = units\n",
    "        self.activation = tf.keras.activations.get(activation)\n",
    "\n",
    "    def build(self, input_shape):\n",
    "        self.weight = self.add_weight(\n",
    "            shape=(input_shape[-1], self.units),\n",
    "            initializer='glorot_uniform',  \n",
    "            trainable=True,\n",
    "            name='weights'\n",
    "        )\n",
    "\n",
    "        self.bias = self.add_weight(\n",
    "            shape=(self.units,),\n",
    "            initializer='zeros',  \n",
    "            trainable=True,\n",
    "            name='bias'\n",
    "        )\n",
    "\n",
    "    def call(self, inputs):\n",
    "        output = tf.matmul(inputs, self.weight)\n",
    "        output = tf.nn.bias_add(output, self.bias)\n",
    "        output = self.activation(output)\n",
    "        return output\n"
   ]
  },
  {
   "cell_type": "markdown",
   "metadata": {},
   "source": [
    "CustomModel"
   ]
  },
  {
   "cell_type": "code",
   "execution_count": 21,
   "metadata": {},
   "outputs": [],
   "source": [
    "class CustomModel(Model):\n",
    "    def __init__(self):\n",
    "        super(CustomModel, self).__init__()\n",
    "        self.conv1 = CustomConv2D(3, (3,3))\n",
    "        self.pool1 = MaxPooling2D((2,2))\n",
    "        self.conv2 = CustomConv2D(6, (6,6))\n",
    "        self.pool2 = MaxPooling2D((2,2))  \n",
    "        self.flatten = Flatten()\n",
    "        self.dense1  = CustomDense(64)\n",
    "        self.dense2 = CustomDense(32)\n",
    "        self.dense3 = CustomDense(1, activation='sigmoid')\n",
    "\n",
    "    def call(self, inputs):\n",
    "        x = self.conv1(inputs)\n",
    "        x = self.pool1(x)\n",
    "        x = self.conv2(x)\n",
    "        x = self.pool2(x)  # Corrected call to pool2\n",
    "        x = self.flatten(x)\n",
    "        x = self.dense1(x)\n",
    "        x = self.dense2(x)\n",
    "        output = self.dense3(x)\n",
    "        return output\n"
   ]
  },
  {
   "cell_type": "code",
   "execution_count": 33,
   "metadata": {},
   "outputs": [
    {
     "name": "stdout",
     "output_type": "stream",
     "text": [
      "Found 20 images belonging to 2 classes.\n",
      "Found 6 images belonging to 2 classes.\n"
     ]
    }
   ],
   "source": [
    "import tensorflow as tf\n",
    "from tensorflow.keras.preprocessing.image import ImageDataGenerator\n",
    "\n",
    "# Define ImageDataGenerator for normalizing pixel values\n",
    "normalize_train = ImageDataGenerator(rescale=1./255)\n",
    "normalize_test = ImageDataGenerator(rescale=1./255)\n",
    "\n",
    "# Load train data using ImageDataGenerator\n",
    "train_data = normalize_train.flow_from_directory(\n",
    "    r\"C:\\Users\\aethe\\Desktop\\work\\EDA\\dataset\\train\",\n",
    "    target_size=(150, 150),\n",
    "    batch_size=15,\n",
    "    class_mode='binary'    \n",
    ")\n",
    "\n",
    "# Load test data using ImageDataGenerator\n",
    "test_data = normalize_test.flow_from_directory(\n",
    "    r\"C:\\Users\\aethe\\Desktop\\work\\EDA\\dataset\\test\",\n",
    "    target_size=(150, 150),\n",
    "    batch_size=15,\n",
    "    class_mode='binary'\n",
    ")\n",
    "\n"
   ]
  },
  {
   "cell_type": "code",
   "execution_count": 35,
   "metadata": {},
   "outputs": [
    {
     "name": "stdout",
     "output_type": "stream",
     "text": [
      "Epoch 1/5\n",
      "WARNING:tensorflow:From c:\\Users\\aethe\\AppData\\Local\\Programs\\Python\\Python311\\Lib\\site-packages\\keras\\src\\engine\\base_layer_utils.py:384: The name tf.executing_eagerly_outside_functions is deprecated. Please use tf.compat.v1.executing_eagerly_outside_functions instead.\n",
      "\n",
      "2/2 [==============================] - 1s 254ms/step - loss: 0.6973 - accuracy: 0.3500 - val_loss: 0.6801 - val_accuracy: 0.8333\n",
      "Epoch 2/5\n",
      "2/2 [==============================] - 0s 75ms/step - loss: 0.6905 - accuracy: 0.6000 - val_loss: 0.6762 - val_accuracy: 0.6667\n",
      "Epoch 3/5\n",
      "2/2 [==============================] - 0s 100ms/step - loss: 0.6938 - accuracy: 0.5000 - val_loss: 0.6715 - val_accuracy: 0.5000\n",
      "Epoch 4/5\n",
      "2/2 [==============================] - 0s 88ms/step - loss: 0.6743 - accuracy: 0.5000 - val_loss: 0.6626 - val_accuracy: 0.5000\n",
      "Epoch 5/5\n",
      "2/2 [==============================] - 0s 73ms/step - loss: 0.6694 - accuracy: 0.5000 - val_loss: 0.6602 - val_accuracy: 0.5000\n"
     ]
    },
    {
     "data": {
      "text/plain": [
       "<keras.src.callbacks.History at 0x1be1f4fda90>"
      ]
     },
     "execution_count": 35,
     "metadata": {},
     "output_type": "execute_result"
    }
   ],
   "source": [
    "model = CustomModel()\n",
    "\n",
    "model.compile(loss='binary_crossentropy',\n",
    "              optimizer=tf.keras.optimizers.RMSprop(learning_rate=1e-4),\n",
    "              metrics=['accuracy'])\n",
    "\n",
    "# Train the model\n",
    "model.fit(train_data, epochs=5, validation_data=test_data)\n"
   ]
  },
  {
   "cell_type": "code",
   "execution_count": 36,
   "metadata": {},
   "outputs": [
    {
     "name": "stdout",
     "output_type": "stream",
     "text": [
      "1/1 [==============================] - 0s 55ms/step - loss: 0.6602 - accuracy: 0.5000\n"
     ]
    },
    {
     "data": {
      "text/plain": [
       "[0.660244345664978, 0.5]"
      ]
     },
     "execution_count": 36,
     "metadata": {},
     "output_type": "execute_result"
    }
   ],
   "source": [
    "model.evaluate(test_data)"
   ]
  }
 ],
 "metadata": {
  "kernelspec": {
   "display_name": "Python 3",
   "language": "python",
   "name": "python3"
  },
  "language_info": {
   "codemirror_mode": {
    "name": "ipython",
    "version": 3
   },
   "file_extension": ".py",
   "mimetype": "text/x-python",
   "name": "python",
   "nbconvert_exporter": "python",
   "pygments_lexer": "ipython3",
   "version": "3.11.5"
  }
 },
 "nbformat": 4,
 "nbformat_minor": 2
}
