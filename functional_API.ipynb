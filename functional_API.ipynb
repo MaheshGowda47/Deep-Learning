{
 "cells": [
  {
   "cell_type": "code",
   "execution_count": 4,
   "metadata": {},
   "outputs": [],
   "source": [
    "import tensorflow as tf\n",
    "from tensorflow.keras.layers import Dense, Input, Flatten\n",
    "from tensorflow.keras.models import Model"
   ]
  },
  {
   "cell_type": "code",
   "execution_count": 7,
   "metadata": {},
   "outputs": [],
   "source": [
    "def functional_api():\n",
    "    input_layer = Input(shape=(150, 150, 3))\n",
    "\n",
    "    flatten_layer = Flatten()(input_layer)\n",
    "    first_dense = Dense(64, activation='relu')(flatten_layer)\n",
    "    output_layer = Dense(2, activation='sigmoid')(first_dense)\n",
    "\n",
    "    func_model = Model(inputs=input_layer, outputs=output_layer, name='first_attempt')\n",
    "\n",
    "    return func_model"
   ]
  },
  {
   "cell_type": "code",
   "execution_count": 8,
   "metadata": {},
   "outputs": [
    {
     "name": "stdout",
     "output_type": "stream",
     "text": [
      "Model: \"first_attempt\"\n",
      "_________________________________________________________________\n",
      " Layer (type)                Output Shape              Param #   \n",
      "=================================================================\n",
      " input_2 (InputLayer)        [(None, 150, 150, 3)]     0         \n",
      "                                                                 \n",
      " flatten_1 (Flatten)         (None, 67500)             0         \n",
      "                                                                 \n",
      " dense_4 (Dense)             (None, 64)                4320064   \n",
      "                                                                 \n",
      " dense_5 (Dense)             (None, 2)                 130       \n",
      "                                                                 \n",
      "=================================================================\n",
      "Total params: 4320194 (16.48 MB)\n",
      "Trainable params: 4320194 (16.48 MB)\n",
      "Non-trainable params: 0 (0.00 Byte)\n",
      "_________________________________________________________________\n"
     ]
    }
   ],
   "source": [
    "model = functional_api()\n",
    "model.summary()"
   ]
  },
  {
   "cell_type": "code",
   "execution_count": 16,
   "metadata": {},
   "outputs": [
    {
     "name": "stdout",
     "output_type": "stream",
     "text": [
      "Requirement already satisfied: pydot in c:\\users\\aethe\\appdata\\local\\programs\\python\\python311\\lib\\site-packages (2.0.0)\n",
      "Requirement already satisfied: pyparsing>=3 in c:\\users\\aethe\\appdata\\local\\programs\\python\\python311\\lib\\site-packages (from pydot) (3.1.2)\n",
      "Requirement already satisfied: graphviz in c:\\users\\aethe\\appdata\\local\\programs\\python\\python311\\lib\\site-packages (0.20.1)\n",
      "You must install pydot (`pip install pydot`) and install graphviz (see instructions at https://graphviz.gitlab.io/download/) for plot_model to work.\n"
     ]
    }
   ],
   "source": [
    "! pip install pydot\n",
    "! pip install graphviz\n",
    "\n",
    "import keras\n",
    "\n",
    "keras.utils.plot_model(model, \"my_first_model_with_shape_info.png\", show_shapes=True)"
   ]
  },
  {
   "cell_type": "markdown",
   "metadata": {},
   "source": [
    "-------------------------------------------------------------------------------------------------------------------------"
   ]
  },
  {
   "cell_type": "code",
   "execution_count": 17,
   "metadata": {},
   "outputs": [
    {
     "name": "stdout",
     "output_type": "stream",
     "text": [
      "Found 20 images belonging to 2 classes.\n",
      "Found 6 images belonging to 2 classes.\n",
      "Shape of x_train: (15, 150, 150, 3, 1)\n",
      "Shape of y_train: (15,)\n",
      "Shape of x_test: (6, 150, 150, 3, 1)\n",
      "Shape of y_test: (6,)\n"
     ]
    }
   ],
   "source": [
    "import tensorflow as tf\n",
    "from tensorflow.keras.preprocessing.image import ImageDataGenerator\n",
    "\n",
    "# Define ImageDataGenerator for normalizing pixel values\n",
    "normalize_train = ImageDataGenerator(rescale=1./255)\n",
    "normalize_test = ImageDataGenerator(rescale=1./255)\n",
    "\n",
    "# Load train data using ImageDataGenerator with shuffling\n",
    "train_data = normalize_train.flow_from_directory(\n",
    "    r\"C:\\Users\\aethe\\Desktop\\work\\EDA\\dataset\\train\",\n",
    "    target_size=(150, 150),\n",
    "    batch_size=15,\n",
    "    class_mode='binary',\n",
    "    shuffle=True  # Add shuffling\n",
    ")\n",
    "\n",
    "# Load test data using ImageDataGenerator with shuffling\n",
    "test_data = normalize_test.flow_from_directory(\n",
    "    r\"C:\\Users\\aethe\\Desktop\\work\\EDA\\dataset\\test\",\n",
    "    target_size=(150, 150),\n",
    "    batch_size=15,\n",
    "    class_mode='binary',\n",
    "    shuffle=True  # Add shuffling\n",
    ")\n",
    "\n",
    "# Divide data into x_train, y_train, x_test, y_test\n",
    "x_train, y_train = next(train_data)\n",
    "x_test, y_test = next(test_data)\n",
    "\n",
    "# Add a channels dimension\n",
    "x_train = x_train[..., tf.newaxis].astype(\"float32\")\n",
    "x_test = x_test[..., tf.newaxis].astype(\"float32\")\n",
    "\n",
    "# Display shapes of the divided data\n",
    "print(\"Shape of x_train:\", x_train.shape)\n",
    "print(\"Shape of y_train:\", y_train.shape)\n",
    "print(\"Shape of x_test:\", x_test.shape)\n",
    "print(\"Shape of y_test:\", y_test.shape)\n"
   ]
  },
  {
   "cell_type": "code",
   "execution_count": 21,
   "metadata": {},
   "outputs": [],
   "source": [
    "from tensorflow.keras import layers\n",
    "\n",
    "def function_model():\n",
    "    input_layer = Input(shape=(150, 150, 3), name='Image Classification')\n",
    "\n",
    "    x = layers.Conv2D(32, (3,3), activation='relu',)(input_layer)\n",
    "    x = layers.Conv2D(64, (3,3), activation='relu')(x)\n",
    "    block_output = layers.MaxPooling2D(2,2)(x)\n",
    "\n",
    "    x = layers.Conv2D(64, 3, activation=\"relu\")(block_output)\n",
    "    x = layers.GlobalAveragePooling2D()(x)\n",
    "\n",
    "    flatten = Flatten()(x)\n",
    "    x = layers.Dense(256, activation=\"relu\")(flatten)\n",
    "    x = layers.Dropout(0.5)(x)\n",
    "    outputs = layers.Dense(1, activation='sigmoid')(x)\n",
    "\n",
    "    model = keras.Model(inputs=input_layer, outputs=outputs, name=\"toy_resnet\")\n",
    "\n",
    "    return model"
   ]
  },
  {
   "cell_type": "code",
   "execution_count": 22,
   "metadata": {},
   "outputs": [
    {
     "name": "stdout",
     "output_type": "stream",
     "text": [
      "Epoch 1/10\n",
      "WARNING:tensorflow:From c:\\Users\\aethe\\AppData\\Local\\Programs\\Python\\Python311\\Lib\\site-packages\\keras\\src\\utils\\tf_utils.py:492: The name tf.ragged.RaggedTensorValue is deprecated. Please use tf.compat.v1.ragged.RaggedTensorValue instead.\n",
      "\n",
      "WARNING:tensorflow:From c:\\Users\\aethe\\AppData\\Local\\Programs\\Python\\Python311\\Lib\\site-packages\\keras\\src\\engine\\base_layer_utils.py:384: The name tf.executing_eagerly_outside_functions is deprecated. Please use tf.compat.v1.executing_eagerly_outside_functions instead.\n",
      "\n",
      "1/1 - 2s - loss: 0.7116 - accuracy: 0.4000 - val_loss: 0.6968 - val_accuracy: 0.5000 - 2s/epoch - 2s/step\n",
      "Epoch 2/10\n",
      "1/1 - 0s - loss: 0.7025 - accuracy: 0.4000 - val_loss: 0.6958 - val_accuracy: 0.5000 - 317ms/epoch - 317ms/step\n",
      "Epoch 3/10\n",
      "1/1 - 0s - loss: 0.7023 - accuracy: 0.4000 - val_loss: 0.6951 - val_accuracy: 0.5000 - 332ms/epoch - 332ms/step\n",
      "Epoch 4/10\n",
      "1/1 - 0s - loss: 0.6912 - accuracy: 0.5333 - val_loss: 0.6946 - val_accuracy: 0.5000 - 354ms/epoch - 354ms/step\n",
      "Epoch 5/10\n",
      "1/1 - 0s - loss: 0.6920 - accuracy: 0.5333 - val_loss: 0.6941 - val_accuracy: 0.5000 - 321ms/epoch - 321ms/step\n",
      "Epoch 6/10\n",
      "1/1 - 0s - loss: 0.6991 - accuracy: 0.4667 - val_loss: 0.6940 - val_accuracy: 0.3333 - 378ms/epoch - 378ms/step\n",
      "Epoch 7/10\n",
      "1/1 - 0s - loss: 0.6871 - accuracy: 0.6000 - val_loss: 0.6936 - val_accuracy: 0.5000 - 352ms/epoch - 352ms/step\n",
      "Epoch 8/10\n",
      "1/1 - 0s - loss: 0.6989 - accuracy: 0.3333 - val_loss: 0.6934 - val_accuracy: 0.5000 - 340ms/epoch - 340ms/step\n",
      "Epoch 9/10\n",
      "1/1 - 0s - loss: 0.6984 - accuracy: 0.4667 - val_loss: 0.6931 - val_accuracy: 0.5000 - 384ms/epoch - 384ms/step\n",
      "Epoch 10/10\n",
      "1/1 - 0s - loss: 0.6957 - accuracy: 0.4667 - val_loss: 0.6929 - val_accuracy: 0.5000 - 359ms/epoch - 359ms/step\n"
     ]
    }
   ],
   "source": [
    "model = function_model()\n",
    "\n",
    "model.compile(loss='binary_crossentropy',\n",
    "              optimizer=tf.keras.optimizers.RMSprop(learning_rate=1e-4),\n",
    "              metrics=['accuracy'])\n",
    "\n",
    "# Train the model\n",
    "history = model.fit(x_train, y_train, epochs=10, batch_size=15, validation_data=(x_test, y_test), verbose=2)"
   ]
  },
  {
   "cell_type": "code",
   "execution_count": 23,
   "metadata": {},
   "outputs": [
    {
     "name": "stdout",
     "output_type": "stream",
     "text": [
      "You must install pydot (`pip install pydot`) and install graphviz (see instructions at https://graphviz.gitlab.io/download/) for plot_model to work.\n"
     ]
    }
   ],
   "source": [
    "keras.utils.plot_model(model, \"my_first_model_with_shape_info.png\", show_shapes=True)"
   ]
  }
 ],
 "metadata": {
  "kernelspec": {
   "display_name": "Python 3",
   "language": "python",
   "name": "python3"
  },
  "language_info": {
   "codemirror_mode": {
    "name": "ipython",
    "version": 3
   },
   "file_extension": ".py",
   "mimetype": "text/x-python",
   "name": "python",
   "nbconvert_exporter": "python",
   "pygments_lexer": "ipython3",
   "version": "3.11.5"
  }
 },
 "nbformat": 4,
 "nbformat_minor": 2
}
