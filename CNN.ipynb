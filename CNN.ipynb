{
 "cells": [
  {
   "cell_type": "markdown",
   "metadata": {},
   "source": [
    "Necessary Imports"
   ]
  },
  {
   "cell_type": "code",
   "execution_count": 85,
   "metadata": {},
   "outputs": [],
   "source": [
    "import tensorflow as tf\n",
    "from tensorflow.keras.layers import Layer, Flatten, Dense, MaxPooling2D, Conv2D\n",
    "from tensorflow.keras.models import Model\n",
    "from tensorflow.keras.losses import BinaryCrossentropy\n",
    "from tensorflow.keras.metrics import BinaryAccuracy"
   ]
  },
  {
   "cell_type": "markdown",
   "metadata": {},
   "source": [
    "Custom Layer for weights and bias"
   ]
  },
  {
   "cell_type": "code",
   "execution_count": 90,
   "metadata": {},
   "outputs": [],
   "source": [
    "class CustomConv2D(Layer):\n",
    "    def __init__(self, filters, kernel_size, activation='relu'):\n",
    "        super(CustomConv2D, self).__init__()\n",
    "        self.filters = filters\n",
    "        self.kernel_size = kernel_size\n",
    "        self.activation = tf.keras.activations.get(activation)\n",
    "\n",
    "# kernal - filter, filter - number of kernal\n",
    "    def build(self, input_shape):\n",
    "        self.kernel = self.add_weight(\n",
    "            \n",
    "            shape=(self.kernel_size[0], self.kernel_size[1], input_shape[-1], self.filters),\n",
    "            initializer='glorot_uniform',\n",
    "            trainable=True,\n",
    "            name='kernel'\n",
    "\n",
    "        )\n",
    "\n",
    "        self.bias = self.add_weight(\n",
    "            shape=(self.filters,),\n",
    "            initializer='zeros',\n",
    "            trainable=True,\n",
    "            name='bias'\n",
    "        )\n",
    "\n",
    "    def call(self, inputs):\n",
    "        output = tf.nn.conv2d(inputs, self.kernel, strides=[1, 1, 1, 1], padding='SAME')\n",
    "        output = tf.nn.bias_add(output, self.bias)\n",
    "        output = self.activation(output)\n",
    "        return output\n"
   ]
  },
  {
   "cell_type": "markdown",
   "metadata": {},
   "source": [
    "custom Dense Layer"
   ]
  },
  {
   "cell_type": "code",
   "execution_count": 91,
   "metadata": {},
   "outputs": [],
   "source": [
    "class CustomDense(Layer):\n",
    "    def __init__(self, units, activation='relu'):\n",
    "        super(CustomDense, self).__init__()\n",
    "        self.units = units\n",
    "        self.activation = tf.keras.activations.get(activation)\n",
    "\n",
    "    def build(self, input_shape):\n",
    "        self.weight = self.add_weight(\n",
    "            shape=(input_shape[-1], self.units),\n",
    "            initializer='glorot_uniform',  \n",
    "            trainable=True,\n",
    "            name='weights'\n",
    "        )\n",
    "\n",
    "        self.bias = self.add_weight(\n",
    "            shape=(self.units,),\n",
    "            initializer='zeros',  \n",
    "            trainable=True,\n",
    "            name='bias'\n",
    "        )\n",
    "\n",
    "    def call(self, inputs):\n",
    "        output = tf.matmul(inputs, self.weight)\n",
    "        output = tf.nn.bias_add(output, self.bias)\n",
    "        output = self.activation(output)\n",
    "        return output\n"
   ]
  },
  {
   "cell_type": "markdown",
   "metadata": {},
   "source": [
    "CustomModel"
   ]
  },
  {
   "cell_type": "code",
   "execution_count": 92,
   "metadata": {},
   "outputs": [],
   "source": [
    "class CustomModel(Model):\n",
    "    def __init__(self):\n",
    "        super(CustomModel, self).__init__()\n",
    "        self.conv1 = CustomConv2D(3, (3,3))\n",
    "        self.pool1 = MaxPooling2D((2,2))\n",
    "        self.conv2 = CustomConv2D(6, (6,6))\n",
    "        self.pool2 = MaxPooling2D((2,2))  \n",
    "        self.flatten = Flatten()\n",
    "        self.dense1  = CustomDense(64)\n",
    "        self.dense2 = CustomDense(32)\n",
    "        self.dense3 = CustomDense(1, activation='sigmoid')\n",
    "\n",
    "    def call(self, inputs):\n",
    "        x = self.conv1(inputs)\n",
    "        x = self.pool1(x)\n",
    "        x = self.conv2(x)\n",
    "        x = self.pool2(x)  # Corrected call to pool2\n",
    "        x = self.flatten(x)\n",
    "        x = self.dense1(x)\n",
    "        x = self.dense2(x)\n",
    "        output = self.dense3(x)\n",
    "        return output\n"
   ]
  },
  {
   "cell_type": "code",
   "execution_count": 93,
   "metadata": {},
   "outputs": [
    {
     "name": "stdout",
     "output_type": "stream",
     "text": [
      "Model: \"custom_model_17\"\n",
      "_________________________________________________________________\n",
      " Layer (type)                Output Shape              Param #   \n",
      "=================================================================\n",
      " custom_conv2d_32 (CustomCo  multiple                  84        \n",
      " nv2D)                                                           \n",
      "                                                                 \n",
      " max_pooling2d_16 (MaxPooli  multiple                  0         \n",
      " ng2D)                                                           \n",
      "                                                                 \n",
      " custom_conv2d_33 (CustomCo  multiple                  654       \n",
      " nv2D)                                                           \n",
      "                                                                 \n",
      " max_pooling2d_17 (MaxPooli  multiple                  0         \n",
      " ng2D)                                                           \n",
      "                                                                 \n",
      " flatten_16 (Flatten)        multiple                  0         \n",
      "                                                                 \n",
      " custom_dense_47 (CustomDen  multiple                  24640     \n",
      " se)                                                             \n",
      "                                                                 \n",
      " custom_dense_48 (CustomDen  multiple                  2080      \n",
      " se)                                                             \n",
      "                                                                 \n",
      " custom_dense_49 (CustomDen  multiple                  33        \n",
      " se)                                                             \n",
      "                                                                 \n",
      "=================================================================\n",
      "Total params: 27491 (107.39 KB)\n",
      "Trainable params: 27491 (107.39 KB)\n",
      "Non-trainable params: 0 (0.00 Byte)\n",
      "_________________________________________________________________\n"
     ]
    }
   ],
   "source": [
    "model = CustomModel()  # Create an instance of your custom model\n",
    "# Call the model on a batch of data to build it implicitly\n",
    "# For example, you can create a dummy input tensor\n",
    "dummy_input = tf.zeros((1, 32, 32, 3))  # Assuming input shape is (batch_size, height, width, channels)\n",
    "model(dummy_input)\n",
    "# Now, you can access the model summary\n",
    "model.summary()\n"
   ]
  }
 ],
 "metadata": {
  "kernelspec": {
   "display_name": "Python 3",
   "language": "python",
   "name": "python3"
  },
  "language_info": {
   "codemirror_mode": {
    "name": "ipython",
    "version": 3
   },
   "file_extension": ".py",
   "mimetype": "text/x-python",
   "name": "python",
   "nbconvert_exporter": "python",
   "pygments_lexer": "ipython3",
   "version": "3.11.5"
  }
 },
 "nbformat": 4,
 "nbformat_minor": 2
}
